{
 "cells": [
  {
   "cell_type": "markdown",
   "metadata": {
    "id": "y5dddMZVQogb"
   },
   "source": [
    "# <center>3 Missionaries 3 Cannibals</center> \n",
    "\n",
    "Create the famous 3 missionaries 3 cannibals crossing the river game.\n",
    "\n",
    "[Play Game!](https://www.novelgames.com/en/missionaries/)\n",
    "\n",
    "## Notebook Content :\n",
    "\n",
    "- **Lesson 1 :**\n",
    "  - Setting up the initial environment of the game.\n",
    "\n",
    "- **Lesson 2 :**\n",
    "  - Adding the required valid and invalid conditions alongwith their operations.\n",
    "\n",
    "- **Lesson 3 :**\n",
    "  - Combining all segments of the code to build the game.\n",
    "\n",
    "- **Lesson 4 :**\n",
    "  - Adding emoticons to complete the game with better interface.\n"
   ]
  },
  {
   "cell_type": "markdown",
   "metadata": {
    "id": "E6meN3PiQogl"
   },
   "source": [
    "## Rules :\n",
    "- Only 1 or 2 people are permitted on the boat to travel.\n",
    "- We cannot select anymore missionaries or cannibals on the boat than the available number of missionaries or cannibals on either side.\n",
    "- You **lose** if the number of cannibals exceeds the number of missionaries on either side.\n",
    "- You **win** if you successfully transfer all the missionaries and cannibals from right side to left side."
   ]
  },
  {
   "cell_type": "markdown",
   "metadata": {
    "id": "1fGHJcbTQogm"
   },
   "source": [
    "## <center>**Lesson 1**</center>\n",
    "\n",
    "#### <center>**Setting up the initial environment of the game**</center>"
   ]
  },
  {
   "cell_type": "markdown",
   "metadata": {
    "id": "2qAeNA_ZQogn"
   },
   "source": [
    "In the initial conditions of the game, all the missionaries and cannibals are on the right side alongwith the boat and the left side is completely empty. We will mimic this condition by defining variables for them.\n",
    "\n",
    "### **Define initial variables :**\n",
    "\n",
    "- Define variable `boat_side` as 'Right' initially. This depicts the boat being placed at right side.\n",
    "- Create numeric variables for number of missionaries and cannibals\n",
    "   on the right and left side. \n",
    "   So there are 3 missionaries and cannibals on right side and 0 on the left side.\n",
    "- **List of Variables :**\n",
    "`boat_side, missionaries_on_right, cannibals_on_right, missionaries_on_left, cannibals_on_left`\n"
   ]
  },
  {
   "cell_type": "code",
   "execution_count": 1,
   "metadata": {
    "colab": {
     "base_uri": "https://localhost:8080/",
     "height": 131
    },
    "id": "AmjfaRdgQogo",
    "outputId": "9c106f10-7cb0-48ac-b52c-d341a0897c6e"
   },
   "outputs": [],
   "source": [
    "boat_side = \"Right\"\n",
    "missionaries_on_right=3\n",
    "cannibals_on_right=3\n",
    "missionaries_on_left=0\n",
    "cannibals_on_left=0\n",
    "\n",
    "\n",
    "\n",
    "\n"
   ]
  },
  {
   "cell_type": "markdown",
   "metadata": {
    "id": "544yxFpIQogp"
   },
   "source": [
    "Now display the inital conditions of the game using the following stylish manner :<br>\n",
    "\n",
    "`M = 0 C = 0  |-----B|  M = 3 C = 3`<br>\n",
    "\n",
    "Make sure to not hardcode all values."
   ]
  },
  {
   "cell_type": "code",
   "execution_count": 2,
   "metadata": {
    "id": "EGp8GNBhQogq"
   },
   "outputs": [
    {
     "name": "stdout",
     "output_type": "stream",
     "text": [
      "  🌊🌊🌊 🚢 💂💂💂 👹👹👹\n"
     ]
    }
   ],
   "source": [
    "print( \"\\U0001f482\"*missionaries_on_left ,\"\\U0001f479\"*cannibals_on_left,\"\\U0001f30a\"*3,\"\\U0001f6A2\",\"\\U0001f482\"*missionaries_on_right, \"\\U0001f479\"*cannibals_on_right)"
   ]
  },
  {
   "cell_type": "code",
   "execution_count": null,
   "metadata": {},
   "outputs": [],
   "source": []
  },
  {
   "cell_type": "code",
   "execution_count": 3,
   "metadata": {},
   "outputs": [],
   "source": [
    "# print( \"M=\",missionaries_on_left, cannibals_on_left ,'|------ B|', missionaries_on_right ,cannibals_on_right)"
   ]
  },
  {
   "cell_type": "markdown",
   "metadata": {
    "id": "PObVD9tdQogq"
   },
   "source": [
    "## <center>**Lesson 2**</center>\n",
    "#### <center>**Adding the required valid and invalid conditions alongwith their operations**</center>\n"
   ]
  },
  {
   "cell_type": "markdown",
   "metadata": {
    "id": "2aDEi-SqQogq"
   },
   "source": [
    "Take input from the user for entering the number of missionaries and cannibals on the boat.<br>\n",
    "Store these values in 2 variables : `missionaries, cannibals`\n",
    "\n",
    "This part depicts the process of tapping the `missionaries` and `cannibals` on to the boat.  \n",
    "\n",
    "**Note :** Make sure you pass the appropriate message in the input function that assists user in entering the values. \n",
    "\n",
    "**Note :** The following code cells will be common for both right side and left side required in Lesson 3 and Lesson 4."
   ]
  },
  {
   "cell_type": "code",
   "execution_count": 4,
   "metadata": {
    "id": "GEglqSjrQogr"
   },
   "outputs": [
    {
     "name": "stdout",
     "output_type": "stream",
     "text": [
      "Enter the number of missionaries and cannibals on the boat.\n",
      "💂:1\n",
      "👹:1\n"
     ]
    }
   ],
   "source": [
    "print(\"Enter the number of missionaries and cannibals on the boat.\")\n",
    "missionaries=int(input(\"\\U0001f482:\"))\n",
    "cannibals=int(input(\"\\U0001f479:\"))\n"
   ]
  },
  {
   "cell_type": "markdown",
   "metadata": {
    "id": "fVfioCyZQogs"
   },
   "source": [
    "**Invalid Move 1 :**\n",
    "\n",
    "Check if the maximum number of people on the boat are 1 or 2 only else print \"Invalid move 1\""
   ]
  },
  {
   "cell_type": "code",
   "execution_count": 5,
   "metadata": {
    "id": "50I3KT4hQogs"
   },
   "outputs": [
    {
     "name": "stdout",
     "output_type": "stream",
     "text": [
      "You are good to go\n"
     ]
    }
   ],
   "source": [
    "i = missionaries + cannibals \n",
    "if 0<i<3:\n",
    "    print(\"You are good to go\")\n",
    "else:\n",
    "    print(\"Invalid move\")\n"
   ]
  },
  {
   "cell_type": "markdown",
   "metadata": {
    "id": "Oe1ymzIIQogt"
   },
   "source": [
    "###  <center>**Codeflow for Right Side**</center>"
   ]
  },
  {
   "cell_type": "markdown",
   "metadata": {
    "id": "SoyMGHXrZd28"
   },
   "source": [
    "Add if - else statement to check the value of `boat_side` variable and display if the boat is on right side.\n",
    "\n",
    "This is done to confirm the boat side before carrying out the required operations."
   ]
  },
  {
   "cell_type": "code",
   "execution_count": null,
   "metadata": {},
   "outputs": [],
   "source": []
  },
  {
   "cell_type": "code",
   "execution_count": null,
   "metadata": {},
   "outputs": [],
   "source": []
  },
  {
   "cell_type": "raw",
   "metadata": {},
   "source": []
  },
  {
   "cell_type": "code",
   "execution_count": null,
   "metadata": {},
   "outputs": [],
   "source": []
  },
  {
   "cell_type": "code",
   "execution_count": null,
   "metadata": {
    "scrolled": true
   },
   "outputs": [],
   "source": []
  },
  {
   "cell_type": "code",
   "execution_count": 6,
   "metadata": {
    "id": "E0035i_CZasN",
    "scrolled": true
   },
   "outputs": [
    {
     "name": "stdout",
     "output_type": "stream",
     "text": [
      "Right\n"
     ]
    }
   ],
   "source": [
    "# boat_side=input(\"Enter boat side right or left=\")\n",
    "\n",
    "if boat_side==\"Right\":\n",
    "    print(\"Right\")\n",
    "else:\n",
    "    print(\"Left\")"
   ]
  },
  {
   "cell_type": "markdown",
   "metadata": {
    "id": "Y8sYOlsqZolz"
   },
   "source": [
    "**Invalid Move 2 :**\n",
    "\n",
    "Check if the number of missionaries or cannibals entered on the boat are greater than the available missionaries or cannibals on the right side. If yes, print \"Invalid move 2\"."
   ]
  },
  {
   "cell_type": "code",
   "execution_count": 7,
   "metadata": {
    "id": "PzW5raCfQogt"
   },
   "outputs": [
    {
     "name": "stdout",
     "output_type": "stream",
     "text": [
      "valid\n"
     ]
    }
   ],
   "source": [
    "if (missionaries)>(missionaries_on_right) or (cannibals)>(cannibals_on_right):\n",
    "    print(\"invalid2\")\n",
    "else:\n",
    "    print(\"valid\")\n"
   ]
  },
  {
   "cell_type": "markdown",
   "metadata": {
    "id": "d6wYZ7DLQogu"
   },
   "source": [
    "When the boat travels from right side to left side : \n",
    "- Number of missionaries and cannibals reduce from the right side.\n",
    "- Number of missionaries and cannibals increase on the left side."
   ]
  },
  {
   "cell_type": "code",
   "execution_count": 8,
   "metadata": {
    "id": "rgbWSeUBQogu"
   },
   "outputs": [],
   "source": [
    "missionaries_on_right-=missionaries\n",
    "cannibals_on_right-=cannibals\n",
    "missionaries_on_left+=missionaries\n",
    "cannibals_on_left+=cannibals\n",
    "# print( \"M =\",missionaries_on_left ,\"C =\",cannibals_on_left,\"|B------|\",\"M =\",missionaries_on_right, \"C =\",cannibals_on_right)\n",
    "# boat_side=\"Left\""
   ]
  },
  {
   "cell_type": "markdown",
   "metadata": {
    "id": "US5ADpenQogv"
   },
   "source": [
    "Display in the same format as mentioned above.\n",
    "\n",
    "`M = 1 C = 1  |B-----|  M = 2 C = 2`\n",
    "\n",
    "Change the `boat_side` variable to 'Left' aswell. \n",
    "\n",
    "This variable overwrite is the equivalent of the boat travelling from right side to left side."
   ]
  },
  {
   "cell_type": "code",
   "execution_count": 9,
   "metadata": {
    "id": "roWkGTzyQogv"
   },
   "outputs": [
    {
     "name": "stdout",
     "output_type": "stream",
     "text": [
      "M = 1 C = 1 |B------| M = 2 C = 2\n"
     ]
    }
   ],
   "source": [
    "print( \"M =\",missionaries_on_left ,\"C =\",cannibals_on_left,\"|B------|\",\"M =\",missionaries_on_right, \"C =\",cannibals_on_right)\n",
    "boat_side=\"Left\""
   ]
  },
  {
   "cell_type": "markdown",
   "metadata": {
    "id": "WWKdADPJQogw"
   },
   "source": [
    "###  <center>**Codeflow for Left Side**</center>\n"
   ]
  },
  {
   "cell_type": "markdown",
   "metadata": {
    "id": "94_ZSJi8dSvd"
   },
   "source": [
    "Add if - else statement to check the value of `boat_side` variable and display if the boat is on left side.\n",
    "\n",
    "This is done to confirm the boat side before carrying out the required operations."
   ]
  },
  {
   "cell_type": "code",
   "execution_count": 10,
   "metadata": {
    "id": "zGgX00C-dSIt"
   },
   "outputs": [
    {
     "name": "stdout",
     "output_type": "stream",
     "text": [
      "Left\n"
     ]
    }
   ],
   "source": [
    "if boat_side==\"Left\":\n",
    "    print(\"Left\")\n",
    "else:\n",
    "    print(\"Right\")"
   ]
  },
  {
   "cell_type": "markdown",
   "metadata": {
    "id": "hrTq7kv7dQ2u"
   },
   "source": [
    "**Invalid Move 2 :**\n",
    "\n",
    "Check if the number of missionaries or cannibals entered on the boat are greater than the available missionaries or cannibals on the left side. If yes, print \"Invalid move 2\"."
   ]
  },
  {
   "cell_type": "code",
   "execution_count": 11,
   "metadata": {
    "id": "XlrT8EEaQogw"
   },
   "outputs": [
    {
     "name": "stdout",
     "output_type": "stream",
     "text": [
      "valid\n"
     ]
    }
   ],
   "source": [
    "if (missionaries)>(missionaries_on_left) or (cannibals)>(cannibals_on_left):\n",
    "    print(\"invalid2\")\n",
    "else:\n",
    "    print(\"valid\")"
   ]
  },
  {
   "cell_type": "markdown",
   "metadata": {
    "id": "gdYiQ1WXQogw"
   },
   "source": [
    "When the boat travels from left side to right side : \n",
    "- Number of missionaries and cannibals reduce from the left side.\n",
    "- Number of missionaries and cannibals increase on the right side."
   ]
  },
  {
   "cell_type": "code",
   "execution_count": 12,
   "metadata": {
    "id": "z196LJKBQogw"
   },
   "outputs": [],
   "source": [
    "missionaries_on_left-=missionaries\n",
    "cannibals_on_left-=cannibals\n",
    "missionaries_on_right+=missionaries\n",
    "cannibals_on_right+=cannibals\n",
    "# print( \"M =\",missionaries_on_left ,\"C =\",cannibals_on_left,\"|------B|\",\"M =\",missionaries_on_right, \"C =\",cannibals_on_right)\n",
    "# boat_side=\"right\""
   ]
  },
  {
   "cell_type": "markdown",
   "metadata": {
    "id": "oB-3nBCkQogx"
   },
   "source": [
    "Display in the same format as mentioned above.\n",
    "\n",
    "`M = 0 C = 0  |-----B|  M = 3 C = 3`\n",
    "\n",
    "Change the `boat_side` variable to 'Right'. \n",
    "\n",
    "This marks the boat being travelled back to right side."
   ]
  },
  {
   "cell_type": "code",
   "execution_count": 13,
   "metadata": {
    "id": "mtt1iSkoQogx"
   },
   "outputs": [
    {
     "name": "stdout",
     "output_type": "stream",
     "text": [
      "M = 0 C = 0 |'🌊'*4,| M = 3 C = 3\n"
     ]
    }
   ],
   "source": [
    "print( \"M =\",missionaries_on_left ,\"C =\",cannibals_on_left,\"|'\\U0001f30a'*4,|\",\"M =\",missionaries_on_right, \"C =\",cannibals_on_right)\n",
    "boat_side=\"ight\""
   ]
  },
  {
   "cell_type": "code",
   "execution_count": 14,
   "metadata": {},
   "outputs": [
    {
     "name": "stdout",
     "output_type": "stream",
     "text": [
      "\n"
     ]
    }
   ],
   "source": [
    "print()"
   ]
  },
  {
   "cell_type": "markdown",
   "metadata": {
    "id": "WKu9fCDCgvPb"
   },
   "source": [
    "###  <center>**Conditions for Losing the Game**</center>"
   ]
  },
  {
   "cell_type": "markdown",
   "metadata": {
    "id": "sNJhIGL6Qogz"
   },
   "source": [
    "Add conditions to check if the game is lost :\n",
    "- If the number of missionaries is less than the number of cannibals on the right side and the number of missionaries on right side are greater than 0, then print `'YOU LOSE'`.\n",
    "- If the number of missionaries is less than the number of cannibals on the left side and the number of missionaries on left side are greater than 0, then print `'YOU LOSE'`."
   ]
  },
  {
   "cell_type": "code",
   "execution_count": 15,
   "metadata": {
    "id": "zKqb4BADQog0"
   },
   "outputs": [
    {
     "name": "stdout",
     "output_type": "stream",
     "text": [
      "YOU LOSE\n"
     ]
    }
   ],
   "source": [
    "if missionaries<cannibals_on_right and missionaries_on_right>0:\n",
    "    print(\"YOU LOSE\")\n",
    "if missionaries<cannibals_on_left and missionaries_on_left>0:\n",
    "    print(\"YOU LOSE\")"
   ]
  },
  {
   "cell_type": "markdown",
   "metadata": {
    "id": "3JdBVqIWhdwj"
   },
   "source": [
    "###  <center>**Conditions for Winning the Game**</center>"
   ]
  },
  {
   "cell_type": "markdown",
   "metadata": {
    "id": "aS47ad6CQog0"
   },
   "source": [
    "Add conditions to check if the game is won :\n",
    "- If the number of missionaries and cannibals on the left side are equal to 3, then print `'YOU WIN'`."
   ]
  },
  {
   "cell_type": "code",
   "execution_count": 16,
   "metadata": {
    "id": "5dW6W8gyQog0"
   },
   "outputs": [],
   "source": [
    "if missionaries and cannibals_on_left==3:\n",
    "    print(\"YOU WIN\")\n",
    "    \n"
   ]
  },
  {
   "cell_type": "markdown",
   "metadata": {
    "id": "Si__xVHFQog1"
   },
   "source": [
    "## <center>**Lesson 3**</center>\n",
    "#### <center>**Combining all segments of the code to build the game**</center>"
   ]
  },
  {
   "cell_type": "markdown",
   "metadata": {
    "id": "e7uW2kToiKsv"
   },
   "source": [
    "### **Structure of the Combined Code :**\n",
    "\n",
    "<center>\n",
    "\n",
    "```\n",
    "    Setup the inital game conditions and display your game board in the below format.\n",
    "     \n",
    "        M = 0 C = 0  |-----B|  M = 3 C = 3 \n",
    "```\n",
    "</center>\n",
    "\n",
    " boat_side == \"Right\":\n",
    "\n",
    "<center>\n",
    "\n",
    "``` \n",
    "    Check the maximum number of people permitted to travel on the boat.    \n",
    "```\n",
    "```\n",
    "    Now check if the number of missionaries or cannibals entered on the \n",
    "    boat are more than the available missionaries and cannibals on the  \n",
    "    right side.\n",
    "```   \n",
    "``` \n",
    "    When the boat travels from the right side, missionaries and cannibals\n",
    "    reduce from the right side and increase on the left side.    \n",
    "```     \n",
    "```\n",
    "    Display your game board in the below format.\n",
    "    \n",
    "        M = 0 C = 0  |B-----|  M = 3 C = 3\n",
    "\n",
    "    Make the necessary changes that mark the side change from right side to left side.\n",
    "```\n",
    "</center>\n",
    "\n",
    " boat_side == \"Left\":\n",
    "\n",
    "<center>\n",
    "\n",
    "``` \n",
    "    Check the maximum number of people permitted to travel on the boat.    \n",
    "```\n",
    "```\n",
    "    Now check if the number of missionaries or cannibals entered on the \n",
    "    boat are more than the available missionaries and cannibals on the  \n",
    "    left side.\n",
    "```   \n",
    "``` \n",
    "    When the boat travels from the left side, missionaries and cannibals\n",
    "    reduce from the left side and increase on the right side.    \n",
    "```\n",
    "``` \n",
    "    Display your game board in the below format.\n",
    "    \n",
    "    M = 0 C = 0  |-----B|  M = 3 C = 3\n",
    "\n",
    "    Make the necessary changes that mark the side change from left side to right side.\n",
    "```\n",
    "</center>"
   ]
  },
  {
   "cell_type": "markdown",
   "metadata": {
    "id": "IiNzyXCJQog1"
   },
   "source": [
    "The game must go on until you win or lose, so lets put all the conditions inside an infinite loop :\n",
    "\n",
    "- Connect all the segments of the code according to the above structure and do the necessary amendments.\n",
    "- If a move is invalid then without making any changes, you have to `continue`. \n",
    "\n",
    "  This is done so that we get a second chance to change our inputs and start over from the same point without losing previous amendments.\n",
    "\n",
    "- If you Win or Lose the game `break` the loop and get out of it.\n",
    "- Check the winning and losing condition everytime after the boat has travelled.\n",
    "- After getting out of the loop print `Game Over`."
   ]
  },
  {
   "cell_type": "code",
   "execution_count": 17,
   "metadata": {
    "id": "xUjfSzZuQog1"
   },
   "outputs": [
    {
     "name": "stdout",
     "output_type": "stream",
     "text": [
      "  🌊🌊🌊 🚢 💂💂💂 👹👹👹\n",
      "Enter the number of missionaries and cannibals on the boat.\n",
      "💂:2\n",
      "👹:0\n",
      "You are good to go\n",
      "valid\n",
      "💂💂  🚢 🌊🌊🌊 💂 👹👹👹\n",
      "YOU LOSE\n"
     ]
    }
   ],
   "source": [
    "from IPython.display import clear_output\n",
    "\n",
    "boat_side  = \"Right\"\n",
    "missionaries_on_right=3\n",
    "cannibals_on_right=3\n",
    "missionaries_on_left=0\n",
    "cannibals_on_left=0\n",
    "\n",
    "\n",
    "print( \"\\U0001f482\"*missionaries_on_left ,\"\\U0001f479\"*cannibals_on_left,\"\\U0001f30a\"*3,\"\\U0001f6A2\",\"\\U0001f482\"*missionaries_on_right, \"\\U0001f479\"*cannibals_on_right)\n",
    "\n",
    "\n",
    "while True:\n",
    "    print(\"Enter the number of missionaries and cannibals on the boat.\")\n",
    "    missionaries=int(input(\"\\U0001f482:\"))\n",
    "    cannibals=int(input(\"\\U0001f479:\"))\n",
    "\n",
    "\n",
    "    i = missionaries + cannibals \n",
    "    if 0<i<3:\n",
    "        print(\"You are good to go\")\n",
    "    else:\n",
    "        print(\"Invalid move\")\n",
    "        continue\n",
    "        \n",
    "\n",
    "    if boat_side==\"Right\":\n",
    "\n",
    "        if int(missionaries)>int(missionaries_on_right) or int(cannibals)>int(cannibals_on_right):\n",
    "            print(\"invalid2\")\n",
    "            continue\n",
    "        else:\n",
    "            print(\"valid\")\n",
    "            \n",
    "\n",
    "            missionaries_on_right-=missionaries\n",
    "            cannibals_on_right-=cannibals\n",
    "            missionaries_on_left+=missionaries\n",
    "            cannibals_on_left+=cannibals\n",
    "\n",
    "            print( \"\\U0001f482\"*missionaries_on_left ,\"\\U0001f479\"*cannibals_on_left,\"\\U0001f6A2\",\"\\U0001f30a\"*3,\"\\U0001f482\"*missionaries_on_right, \"\\U0001f479\"*cannibals_on_right)\n",
    "            boat_side=\"Left\"\n",
    "\n",
    "\n",
    "    elif boat_side==\"Left\":\n",
    "        if int(missionaries)>int(missionaries_on_left) or int(cannibals)>int(cannibals_on_left):\n",
    "            print(\"invalid2\")\n",
    "            continue\n",
    "        else:\n",
    "            print(\"valid\")\n",
    "           \n",
    "        \n",
    "            missionaries_on_left-=missionaries\n",
    "            cannibals_on_left-=cannibals\n",
    "            missionaries_on_right+=missionaries\n",
    "            cannibals_on_right+=cannibals\n",
    "\n",
    "            clear_output()\n",
    "            print( \"\\U0001f482\"*missionaries_on_left ,\"\\U0001f479\"*cannibals_on_left,\"\\U0001f30a\"*3,\"\\U0001f6A2\",\"\\U0001f482\"*missionaries_on_right, \"\\U0001f479\"*cannibals_on_right)\n",
    "            boat_side=\"Right\"\n",
    "                                  \n",
    "            \n",
    "    if missionaries_on_right<cannibals_on_right and missionaries_on_right>0:\n",
    "        print(\"YOU LOSE\")\n",
    "        break\n",
    "    if missionaries_on_left<cannibals_on_left and missionaries_on_left>0:\n",
    "        print(\"YOU LOSE\")\n",
    "        break\n",
    "        \n",
    "    if missionaries_on_left and cannibals_on_left==3:\n",
    "        print(\"YOU WIN\")\n",
    "        break"
   ]
  },
  {
   "cell_type": "markdown",
   "metadata": {
    "id": "FZHREN7aVHTa"
   },
   "source": [
    "# <center>**Lesson 4**</center>\n",
    "\n",
    "####<center>**Adding emoticons to complete the game with better interface**</center>"
   ]
  },
  {
   "cell_type": "markdown",
   "metadata": {
    "id": "-hIyuzsJQog3"
   },
   "source": [
    "###  Let's make it pretty!\n",
    "\n",
    "#### Clear Screen :\n",
    "- This is a `function` that is utilized to clear the screen after every input statement and helps us to reduce the huge output generated after playing the game built in Lesson 3.\n",
    "  \n",
    "- Copy the following code snippet and paste at the top of your code:\n",
    "\n",
    "  `from IPython.display import clear_output`\n",
    "\n",
    "- Decide its place in the code such that after using it, we should be able to see the changes done after carrying out all the operations of that side and assists us in deciding our next move for the opposite side.\n",
    "\n",
    "  `clear_output()`\n",
    "\n",
    "#### Adding Emoticons :\n",
    "- Use the power of unicodes and emoticons.\n",
    "- Use of string replication.\n",
    "- **Hint :** The unicodes are in string datatype string and display using print function. \n",
    "\n",
    "**The output should look like this after making all the changes**\n",
    "\n",
    "|🌊🌊🌊🌊🌊🚢|💂💂💂👹👹👹\n",
    "<br>\n",
    "After the first move, if we input 1 missionary and 1 cannibal the output will be:\n",
    "\n",
    "💂👹|🌊🌊🌊🌊🌊🚢|💂💂👹👹\n",
    "\n",
    "##### Unicodes\n",
    "💂 = '\\U0001f482'\n",
    "\n",
    "👹 = '\\U0001f479'\n",
    "\n",
    "🌊 = '\\U0001f30a'\n",
    "\n",
    "🚢 = '\\U0001f6A2'"
   ]
  },
  {
   "cell_type": "code",
   "execution_count": 18,
   "metadata": {
    "id": "Cadm-2d0Qog4"
   },
   "outputs": [],
   "source": [
    "# Print in extra stylish manner\n",
    "\n",
    "# Display the number of missionaries based on their count on the left side using string replication\n",
    "### Your code ###\n",
    "\n",
    "\n",
    "# Display the number of cannibals based on their count on the left side using string replication\n",
    "### Your code ###\n",
    "\n",
    "\n",
    "# Display the waves emoji for 4 times using string replication\n",
    "### Your code ###\n",
    "\n",
    "\n",
    "# Display the boat using string replication\n",
    "### Your code ###\n",
    "\n",
    "\n",
    "# Display the number of missionaries based on their count on the right side using string replication\n",
    "### Your code ###\n",
    "\n",
    "\n",
    "# Display the number of cannibals based on their count on the right side using string replication\n",
    "### Your code ###\n",
    "\n"
   ]
  },
  {
   "cell_type": "markdown",
   "metadata": {
    "id": "WpcPEa3JQog4"
   },
   "source": [
    "### <center>**Complete Code**</center>\n"
   ]
  },
  {
   "cell_type": "code",
   "execution_count": 19,
   "metadata": {
    "id": "ET8viXLG0e2K"
   },
   "outputs": [
    {
     "data": {
      "text/plain": [
       "'💂💂💂'"
      ]
     },
     "execution_count": 19,
     "metadata": {},
     "output_type": "execute_result"
    }
   ],
   "source": [
    "'\\U0001f482' *3"
   ]
  },
  {
   "cell_type": "markdown",
   "metadata": {
    "id": "VDdKbLpalpUS"
   },
   "source": [
    "# <center>Happy Learning!</center>"
   ]
  }
 ],
 "metadata": {
  "colab": {
   "collapsed_sections": [
    "y5dddMZVQogb",
    "1fGHJcbTQogm",
    "2qAeNA_ZQogn",
    "PObVD9tdQogq",
    "Oe1ymzIIQogt",
    "WWKdADPJQogw",
    "WKu9fCDCgvPb",
    "3JdBVqIWhdwj",
    "Si__xVHFQog1",
    "e7uW2kToiKsv",
    "FZHREN7aVHTa",
    "-hIyuzsJQog3",
    "WpcPEa3JQog4"
   ],
   "name": "Updated_Missionary_Cannibals.ipynb",
   "provenance": []
  },
  "kernelspec": {
   "display_name": "Python 3 (ipykernel)",
   "language": "python",
   "name": "python3"
  },
  "language_info": {
   "codemirror_mode": {
    "name": "ipython",
    "version": 3
   },
   "file_extension": ".py",
   "mimetype": "text/x-python",
   "name": "python",
   "nbconvert_exporter": "python",
   "pygments_lexer": "ipython3",
   "version": "3.9.12"
  },
  "toc": {
   "base_numbering": 1,
   "nav_menu": {},
   "number_sections": true,
   "sideBar": true,
   "skip_h1_title": false,
   "title_cell": "Table of Contents",
   "title_sidebar": "Contents",
   "toc_cell": false,
   "toc_position": {},
   "toc_section_display": true,
   "toc_window_display": false
  }
 },
 "nbformat": 4,
 "nbformat_minor": 1
}
